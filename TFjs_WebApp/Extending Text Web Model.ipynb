{
  "nbformat": 4,
  "nbformat_minor": 0,
  "metadata": {
    "colab": {
      "provenance": []
    },
    "kernelspec": {
      "name": "python3",
      "display_name": "Python 3"
    },
    "language_info": {
      "name": "python"
    }
  },
  "cells": [
    {
      "cell_type": "markdown",
      "source": [
        "# Creating an env to install tflite-model-maker within google colab's environment (model maker needs python 3.9 and tensorflow 2.8.4 to work with TF model maker's dependencies, meanwhile colab default's to latest TF 2.15.0)"
      ],
      "metadata": {
        "id": "2-5jV7Y3Wtrj"
      }
    },
    {
      "cell_type": "code",
      "execution_count": 1,
      "metadata": {
        "colab": {
          "base_uri": "https://localhost:8080/"
        },
        "id": "gYwHje6tSWje",
        "outputId": "b7152cbd-4239-4800-8e8e-be948c1b3553"
      },
      "outputs": [
        {
          "output_type": "stream",
          "name": "stdout",
          "text": [
            "env: PYTHONPATH=# /env/python\n"
          ]
        }
      ],
      "source": [
        "%env PYTHONPATH = # /env/python"
      ]
    },
    {
      "cell_type": "code",
      "source": [
        "!wget https://repo.anaconda.com/miniconda/Miniconda3-py39_23.3.1-0-Linux-x86_64.sh\n",
        "!chmod +x Miniconda3-py39_23.3.1-0-Linux-x86_64.sh\n",
        "!./Miniconda3-py39_23.3.1-0-Linux-x86_64.sh -b -f -p /usr/local\n",
        "!conda update conda"
      ],
      "metadata": {
        "id": "HPT1vrgNSvBy"
      },
      "execution_count": null,
      "outputs": []
    },
    {
      "cell_type": "code",
      "source": [
        "import sys\n",
        "sys.path.append('/usr/local/lib/python3.9/site-packages')"
      ],
      "metadata": {
        "id": "m5duJm7SXKBU"
      },
      "execution_count": 3,
      "outputs": []
    },
    {
      "cell_type": "code",
      "source": [
        "!conda create -n myenv python=3.9"
      ],
      "metadata": {
        "id": "zUuwzNHXYTDH"
      },
      "execution_count": null,
      "outputs": []
    },
    {
      "cell_type": "code",
      "source": [
        "! python --version"
      ],
      "metadata": {
        "colab": {
          "base_uri": "https://localhost:8080/"
        },
        "id": "B24fnwAnYXM0",
        "outputId": "bcd987de-06d9-4368-c438-374437ad9410"
      },
      "execution_count": 5,
      "outputs": [
        {
          "output_type": "stream",
          "name": "stdout",
          "text": [
            "Python 3.9.18\n"
          ]
        }
      ]
    },
    {
      "cell_type": "code",
      "source": [
        "import tensorflow as tf\n",
        "tf.__version__"
      ],
      "metadata": {
        "colab": {
          "base_uri": "https://localhost:8080/",
          "height": 35
        },
        "id": "BkR4_bLKZOPl",
        "outputId": "5447576f-886a-464f-ac8e-0566daeaa70b"
      },
      "execution_count": 6,
      "outputs": [
        {
          "output_type": "execute_result",
          "data": {
            "text/plain": [
              "'2.15.0'"
            ],
            "application/vnd.google.colaboratory.intrinsic+json": {
              "type": "string"
            }
          },
          "metadata": {},
          "execution_count": 6
        }
      ]
    },
    {
      "cell_type": "code",
      "source": [
        "%%shell\n",
        "eval \"$(conda shell.bash hook)\"\n",
        "conda activate myenv\n",
        "pip install tflite-model-maker"
      ],
      "metadata": {
        "id": "KOn_9ShQZdEh"
      },
      "execution_count": null,
      "outputs": []
    },
    {
      "cell_type": "code",
      "source": [
        "%%shell\n",
        "eval \"$(conda shell.bash hook)\"\n",
        "conda activate myenv\n",
        "pip install ipykernel"
      ],
      "metadata": {
        "id": "W5q-I2OESgS0"
      },
      "execution_count": null,
      "outputs": []
    },
    {
      "cell_type": "markdown",
      "source": [
        "# Training the model on the new set of data"
      ],
      "metadata": {
        "id": "NYLHmnFWje9_"
      }
    },
    {
      "cell_type": "code",
      "source": [
        "%%shell\n",
        "eval \"$(conda shell.bash hook)\"\n",
        "conda activate myenv\n",
        "python retrain_base_comment_model.py"
      ],
      "metadata": {
        "colab": {
          "base_uri": "https://localhost:8080/"
        },
        "id": "sskeTW0ieKVq",
        "outputId": "ff8f8653-bb01-492c-a00c-20ac3d9dccc4"
      },
      "execution_count": 13,
      "outputs": [
        {
          "output_type": "stream",
          "name": "stdout",
          "text": [
            "2024-02-11 22:41:58.849213: W tensorflow/stream_executor/platform/default/dso_loader.cc:64] Could not load dynamic library 'libcudart.so.11.0'; dlerror: libcudart.so.11.0: cannot open shared object file: No such file or directory; LD_LIBRARY_PATH: /usr/local/nvidia/lib:/usr/local/nvidia/lib64\n",
            "/usr/local/envs/myenv/lib/python3.9/site-packages/tensorflow_addons/utils/tfa_eol_msg.py:23: UserWarning: \n",
            "\n",
            "TensorFlow Addons (TFA) has ended development and introduction of new features.\n",
            "TFA has entered a minimal maintenance and release mode until a planned end of life in May 2024.\n",
            "Please modify downstream libraries to take dependencies from other repositories in our TensorFlow community (e.g. Keras, Keras-CV, and Keras-NLP). \n",
            "\n",
            "For more information see: https://github.com/tensorflow/addons/issues/2807 \n",
            "\n",
            "  warnings.warn(\n",
            "/usr/local/envs/myenv/lib/python3.9/site-packages/tensorflow_addons/utils/ensure_tf_install.py:53: UserWarning: Tensorflow Addons supports using Python ops for all Tensorflow versions above or equal to 2.13.0 and strictly below 2.16.0 (nightly versions are not supported). \n",
            " The versions of TensorFlow you are currently using is 2.8.4 and is not supported. \n",
            "Some things might work, some things might not.\n",
            "If you were to encounter a bug, do not file an issue.\n",
            "If you want to make sure you're using a tested and supported configuration, either change the TensorFlow version or the TensorFlow Addons's version. \n",
            "You can find the compatibility matrix in TensorFlow Addon's readme:\n",
            "https://github.com/tensorflow/addons\n",
            "  warnings.warn(\n",
            "### USING TENSORFLOW VERSION 2.8.4 ###\n",
            "2024-02-11 22:42:02.864348: W tensorflow/stream_executor/platform/default/dso_loader.cc:64] Could not load dynamic library 'libcuda.so.1'; dlerror: libcuda.so.1: cannot open shared object file: No such file or directory; LD_LIBRARY_PATH: /usr/local/envs/myenv/lib/python3.9/site-packages/cv2/../../lib64:/usr/local/nvidia/lib:/usr/local/nvidia/lib64\n",
            "2024-02-11 22:42:02.864385: W tensorflow/stream_executor/cuda/cuda_driver.cc:269] failed call to cuInit: UNKNOWN ERROR (303)\n",
            "37/37 [==============================] - 1s 2ms/step - loss: 0.6810 - accuracy: 0.5220\n",
            "Epoch 2/2\n",
            "37/37 [==============================] - 0s 2ms/step - loss: 0.6608 - accuracy: 0.5752\n",
            "Epoch 3/3\n",
            "37/37 [==============================] - 0s 2ms/step - loss: 0.6380 - accuracy: 0.6824\n",
            "Epoch 4/4\n",
            "37/37 [==============================] - 0s 2ms/step - loss: 0.6149 - accuracy: 0.7128\n",
            "Epoch 5/5\n",
            "37/37 [==============================] - 0s 2ms/step - loss: 0.5916 - accuracy: 0.7196\n",
            "Epoch 6/6\n",
            "37/37 [==============================] - 0s 2ms/step - loss: 0.5601 - accuracy: 0.7492\n",
            "Epoch 7/7\n",
            "37/37 [==============================] - 0s 2ms/step - loss: 0.5302 - accuracy: 0.8083\n",
            "Epoch 8/8\n",
            "37/37 [==============================] - 0s 2ms/step - loss: 0.4998 - accuracy: 0.8345\n",
            "Epoch 9/9\n",
            "37/37 [==============================] - 0s 2ms/step - loss: 0.4676 - accuracy: 0.8488\n",
            "Epoch 10/10\n",
            "37/37 [==============================] - 0s 2ms/step - loss: 0.4367 - accuracy: 0.8699\n",
            "Epoch 11/11\n",
            "37/37 [==============================] - 0s 2ms/step - loss: 0.4110 - accuracy: 0.8953\n",
            "Epoch 12/12\n",
            "37/37 [==============================] - 0s 2ms/step - loss: 0.3735 - accuracy: 0.9113\n",
            "Epoch 13/13\n",
            "37/37 [==============================] - 0s 2ms/step - loss: 0.3486 - accuracy: 0.9223\n",
            "Epoch 14/14\n",
            "37/37 [==============================] - 0s 2ms/step - loss: 0.3259 - accuracy: 0.9333\n",
            "Epoch 15/15\n",
            "37/37 [==============================] - 0s 2ms/step - loss: 0.2987 - accuracy: 0.9426\n",
            "Epoch 16/16\n",
            "37/37 [==============================] - 0s 2ms/step - loss: 0.2759 - accuracy: 0.9620\n",
            "Epoch 17/17\n",
            "37/37 [==============================] - 0s 2ms/step - loss: 0.2548 - accuracy: 0.9738\n",
            "Epoch 18/18\n",
            "37/37 [==============================] - 0s 2ms/step - loss: 0.2410 - accuracy: 0.9738\n",
            "Epoch 19/19\n",
            "37/37 [==============================] - 0s 2ms/step - loss: 0.2235 - accuracy: 0.9713\n",
            "Epoch 20/20\n",
            "37/37 [==============================] - 0s 2ms/step - loss: 0.2065 - accuracy: 0.9764\n",
            "Epoch 21/21\n",
            "37/37 [==============================] - 0s 2ms/step - loss: 0.1908 - accuracy: 0.9764\n",
            "Epoch 22/22\n",
            "37/37 [==============================] - 0s 2ms/step - loss: 0.1824 - accuracy: 0.9780\n",
            "Epoch 23/23\n",
            "37/37 [==============================] - 0s 2ms/step - loss: 0.1653 - accuracy: 0.9814\n",
            "Epoch 24/24\n",
            "37/37 [==============================] - 0s 2ms/step - loss: 0.1621 - accuracy: 0.9764\n",
            "Epoch 25/25\n",
            "37/37 [==============================] - 0s 2ms/step - loss: 0.1471 - accuracy: 0.9814\n",
            "Epoch 26/26\n",
            "37/37 [==============================] - 0s 2ms/step - loss: 0.1482 - accuracy: 0.9848\n",
            "Epoch 27/27\n",
            "37/37 [==============================] - 0s 2ms/step - loss: 0.1398 - accuracy: 0.9840\n",
            "Epoch 28/28\n",
            "37/37 [==============================] - 0s 2ms/step - loss: 0.1296 - accuracy: 0.9831\n",
            "Epoch 29/29\n",
            "37/37 [==============================] - 0s 2ms/step - loss: 0.1232 - accuracy: 0.9823\n",
            "Epoch 30/30\n",
            "37/37 [==============================] - 0s 2ms/step - loss: 0.1234 - accuracy: 0.9814\n",
            "Epoch 31/31\n",
            "37/37 [==============================] - 0s 2ms/step - loss: 0.1129 - accuracy: 0.9848\n",
            "Epoch 32/32\n",
            "37/37 [==============================] - 0s 2ms/step - loss: 0.1095 - accuracy: 0.9848\n",
            "Epoch 33/33\n",
            "37/37 [==============================] - 0s 4ms/step - loss: 0.1004 - accuracy: 0.9882\n",
            "Epoch 34/34\n",
            "37/37 [==============================] - 0s 3ms/step - loss: 0.0984 - accuracy: 0.9856\n",
            "Epoch 35/35\n",
            "37/37 [==============================] - 0s 4ms/step - loss: 0.1015 - accuracy: 0.9856\n",
            "Epoch 36/36\n",
            "37/37 [==============================] - 0s 3ms/step - loss: 0.0921 - accuracy: 0.9873\n",
            "Epoch 37/37\n",
            "37/37 [==============================] - 0s 3ms/step - loss: 0.0863 - accuracy: 0.9865\n",
            "Epoch 38/38\n",
            "37/37 [==============================] - 0s 2ms/step - loss: 0.0824 - accuracy: 0.9899\n",
            "Epoch 39/39\n",
            "37/37 [==============================] - 0s 2ms/step - loss: 0.0818 - accuracy: 0.9890\n",
            "Epoch 40/40\n",
            "37/37 [==============================] - 0s 2ms/step - loss: 0.0776 - accuracy: 0.9882\n",
            "Epoch 41/41\n",
            "37/37 [==============================] - 0s 2ms/step - loss: 0.0716 - accuracy: 0.9882\n",
            "Epoch 42/42\n",
            "37/37 [==============================] - 0s 2ms/step - loss: 0.0735 - accuracy: 0.9865\n",
            "Epoch 43/43\n",
            "37/37 [==============================] - 0s 2ms/step - loss: 0.0705 - accuracy: 0.9882\n",
            "Epoch 44/44\n",
            "37/37 [==============================] - 0s 2ms/step - loss: 0.0651 - accuracy: 0.9899\n",
            "Epoch 45/45\n",
            "37/37 [==============================] - 0s 2ms/step - loss: 0.0624 - accuracy: 0.9882\n",
            "Epoch 46/46\n",
            "37/37 [==============================] - 0s 2ms/step - loss: 0.0609 - accuracy: 0.9873\n",
            "Epoch 47/47\n",
            "37/37 [==============================] - 0s 2ms/step - loss: 0.0624 - accuracy: 0.9882\n",
            "Epoch 48/48\n",
            "37/37 [==============================] - 0s 2ms/step - loss: 0.0622 - accuracy: 0.9873\n",
            "Epoch 49/49\n",
            "37/37 [==============================] - 0s 2ms/step - loss: 0.0528 - accuracy: 0.9907\n",
            "Epoch 50/50\n",
            "37/37 [==============================] - 0s 2ms/step - loss: 0.0531 - accuracy: 0.9890\n",
            "2024-02-11 22:42:11.260906: W tensorflow/python/util/util.cc:368] Sets are not currently considered sequences, but this may change in the future, so consider avoiding using them.\n"
          ]
        },
        {
          "output_type": "execute_result",
          "data": {
            "text/plain": []
          },
          "metadata": {},
          "execution_count": 13
        }
      ]
    },
    {
      "cell_type": "markdown",
      "source": [
        "# Unpacking the model file in the js_export folder"
      ],
      "metadata": {
        "id": "OCQFNQ8oVLtH"
      }
    },
    {
      "cell_type": "code",
      "source": [
        "!zip -r /js_export/ModelFiles.zip /js_export/"
      ],
      "metadata": {
        "colab": {
          "base_uri": "https://localhost:8080/"
        },
        "id": "w7GiSnCVVASS",
        "outputId": "eda3cd5e-61e4-443e-c377-7152b484c07c"
      },
      "execution_count": 14,
      "outputs": [
        {
          "output_type": "stream",
          "name": "stdout",
          "text": [
            "  adding: js_export/ (stored 0%)\n",
            "  adding: js_export/vocab.txt (deflated 48%)\n",
            "  adding: js_export/labels.txt (stored 0%)\n",
            "  adding: js_export/tfjs/ (stored 0%)\n",
            "  adding: js_export/tfjs/group1-shard1of1.bin (deflated 8%)\n",
            "  adding: js_export/tfjs/model.json (deflated 72%)\n"
          ]
        }
      ]
    },
    {
      "cell_type": "code",
      "source": [],
      "metadata": {
        "id": "KHDue977VfEo"
      },
      "execution_count": null,
      "outputs": []
    }
  ]
}